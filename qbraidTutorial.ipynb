{
 "cells": [
  {
   "cell_type": "code",
   "execution_count": 1,
   "id": "90c41bf8-661f-4be4-86f4-f219dbc95657",
   "metadata": {
    "tags": []
   },
   "outputs": [
    {
     "name": "stdout",
     "output_type": "stream",
     "text": [
      "Installed environments:\u001b[0m\n",
      "\u001b[1;35mqsharp\n",
      "\u001b[1;35mdefault\n",
      "\u001b[1;35mqiskit\n",
      "\u001b[1;35mamazon_braket\n",
      "\u001b[1;35mqbraid_sdk\n",
      "\u001b[1;35mpyquil\n",
      "\u001b[1;35mqiskit_txtbk\n",
      "\u001b[1;35mpennylane\n",
      "\u001b[1;35mcirq_openfermion\n",
      "\u001b[0mUse `qbraid envs <environment> -h` to see available commands.\n"
     ]
    }
   ],
   "source": [
    "# list installed environments\n",
    "!qbraid envs list"
   ]
  },
  {
   "cell_type": "code",
   "execution_count": 2,
   "id": "b45913bb-e236-437e-8204-1cb4eb553fbd",
   "metadata": {},
   "outputs": [
    {
     "name": "stdout",
     "output_type": "stream",
     "text": [
      "\u001b[0;35mYou have already enabled qBraid Quantum Jobs in the amazon_braket environment.\u001b[0m\n"
     ]
    }
   ],
   "source": [
    "# enable qBraid Quantum Jobs\n",
    "!qbraid jobs enable -n amazon_braket"
   ]
  },
  {
   "cell_type": "code",
   "execution_count": 3,
   "id": "0c636288-eb4e-4887-9da8-7b78d6df7e02",
   "metadata": {},
   "outputs": [
    {
     "name": "stdout",
     "output_type": "stream",
     "text": [
      "\u001b[0;35mYou have \u001b[0m3000\u001b[0;35m remaining qBraid credits.\u001b[0m\n"
     ]
    }
   ],
   "source": [
    "# check qBraid credits\n",
    "!qbraid jobs get-credits"
   ]
  },
  {
   "cell_type": "code",
   "execution_count": 4,
   "id": "3679397f-139c-4970-a4c0-219c5be4ea5f",
   "metadata": {},
   "outputs": [
    {
     "name": "stdout",
     "output_type": "stream",
     "text": [
      "T  : |0|1|\n",
      "          \n",
      "q0 : -H-C-\n",
      "        | \n",
      "q1 : ---X-\n",
      "\n",
      "T  : |0|1|\n"
     ]
    }
   ],
   "source": [
    "from braket.aws import AwsDevice\n",
    "from braket.circuits import Circuit\n",
    "\n",
    "# creat the Amazon Braket circuit\n",
    "bell = Circuit().h(0).cnot(0, 1)\n",
    "\n",
    "print(bell)"
   ]
  },
  {
   "cell_type": "code",
   "execution_count": 5,
   "id": "8bb6e148-6313-4480-b896-9db3092666d8",
   "metadata": {},
   "outputs": [],
   "source": [
    "# dummy variable for the name of the bucket\n",
    "my_bucket = \"MYBUCKET\"\n",
    "# dummy variable for the name. of the folder in the bucket\n",
    "my_prefix = \"MYPREFIX\"\n",
    "# qBraid Quantum Jobs API takes care of this\n",
    "s3_folder = (my_bucket, my_prefix)"
   ]
  },
  {
   "cell_type": "code",
   "execution_count": 6,
   "id": "ab38bde9-991e-4c4b-bfd1-30d7a42d759e",
   "metadata": {},
   "outputs": [],
   "source": [
    "# choose the cloud-based on-demand simulator to run your circuit\n",
    "device = AwsDevice(\"arn:aws:braket:::device/quantum-simulator/amazon/sv1\")\n",
    "\n",
    "#execute the circuit\n",
    "task = device.run(bell, s3_folder, shots=100)"
   ]
  },
  {
   "cell_type": "code",
   "execution_count": 7,
   "id": "e08d14e8-7c86-4c83-a897-c7f2209791b3",
   "metadata": {},
   "outputs": [
    {
     "name": "stdout",
     "output_type": "stream",
     "text": [
      "Counter({'00': 56, '11': 44})\n"
     ]
    }
   ],
   "source": [
    "# display the results\n",
    "print(task.result().measurement_counts)"
   ]
  },
  {
   "cell_type": "code",
   "execution_count": 8,
   "id": "c6086351-6b1f-488e-97ff-bf2037410be2",
   "metadata": {},
   "outputs": [
    {
     "name": "stdout",
     "output_type": "stream",
     "text": [
      "Tue Aug 23 2022 09:31:18 GMT+0000 (Coordinated Universal Time) arn:aws:braket:::device/quantum-simulator/amazon/sv1 arn:aws:braket:us-east-1:592242689881:quantum-task/3fa23cfe-7e31-4525-875a-3bcdbabd2377\n",
      "\n"
     ]
    }
   ],
   "source": [
    "# list submitted jobs\n",
    "!qbraid jobs list"
   ]
  },
  {
   "cell_type": "code",
   "execution_count": 9,
   "id": "f7649188-d638-4b30-8d75-a3c0395bbb2d",
   "metadata": {},
   "outputs": [
    {
     "name": "stdout",
     "output_type": "stream",
     "text": [
      "\u001b[0;35mYou have \u001b[0m2999.94\u001b[0;35m remaining qBraid credits.\u001b[0m\n"
     ]
    }
   ],
   "source": [
    "# check remaining qBraid credits\n",
    "!qbraid jobs get-credits"
   ]
  },
  {
   "cell_type": "code",
   "execution_count": 10,
   "id": "c17f9f30-8d26-44dc-a92c-6fb0e556a0c8",
   "metadata": {},
   "outputs": [
    {
     "name": "stdout",
     "output_type": "stream",
     "text": [
      "\u001b[0;35mDisable successful. You are now submitting quantum jobs with your own AWS credentials.\u001b[0m\n",
      "\n",
      "\u001b[0;35mTo re-enable, run:\u001b[0m `qbraid jobs enable -n amazon_braket`\n"
     ]
    }
   ],
   "source": [
    "# disable qBraid Quantum Jobs\n",
    "!qbraid jobs disable -n amazon_braket"
   ]
  },
  {
   "cell_type": "code",
   "execution_count": null,
   "id": "193c22db-ba0f-447a-b9f8-2e5288478e1a",
   "metadata": {},
   "outputs": [],
   "source": []
  }
 ],
 "metadata": {
  "kernelspec": {
   "display_name": "Python 3 (ipykernel)",
   "language": "python",
   "name": "python3"
  },
  "language_info": {
   "codemirror_mode": {
    "name": "ipython",
    "version": 3
   },
   "file_extension": ".py",
   "mimetype": "text/x-python",
   "name": "python",
   "nbconvert_exporter": "python",
   "pygments_lexer": "ipython3",
   "version": "3.9.12"
  }
 },
 "nbformat": 4,
 "nbformat_minor": 5
}
