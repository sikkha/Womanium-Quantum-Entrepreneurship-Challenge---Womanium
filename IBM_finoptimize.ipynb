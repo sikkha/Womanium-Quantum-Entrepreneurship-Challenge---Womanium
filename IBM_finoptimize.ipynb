{
 "cells": [
  {
   "cell_type": "code",
   "execution_count": 1,
   "id": "34985d2a-a18b-4bd1-b7e4-fb34d5ac1dcd",
   "metadata": {},
   "outputs": [],
   "source": [
    "from qiskit import IBMQ\n",
    "\n",
    "IBMQ.load_account()\n",
    "\n",
    "provider = IBMQ.get_provider(hub=\"ibm-q\", group=\"open\", project=\"main\")"
   ]
  },
  {
   "cell_type": "code",
   "execution_count": 2,
   "id": "d7a3e872-aa56-4642-b872-61237e6ad640",
   "metadata": {},
   "outputs": [],
   "source": [
    "program_id = \"qaoa\"\n",
    "qaoa_program = provider.runtime.program(program_id)"
   ]
  },
  {
   "cell_type": "code",
   "execution_count": 3,
   "id": "a8ddf535-ff7e-48b3-8c82-4117872ee393",
   "metadata": {},
   "outputs": [
    {
     "name": "stdout",
     "output_type": "stream",
     "text": [
      "Program name: qaoa, Program id: qaoa\n",
      "ParameterNamespace (Values):\n",
      "| Name       | Value        | Type         | Required |     Description |\n",
      "-------------------------------------------------------------------------\n",
      "| reps       | None         | integer     | False    | The number of QAOA repetitions, i.e. the QAOA depth typically labeled p. This value defaults to 1. This is an integer. |\n",
      "| operator   | None         | object      | True     | The cost Hamiltonian, consisting of Pauli I and Z operators, whose smallest eigenvalue we're trying to find. The type must be a PauliSumOp. |\n",
      "| optimizer  | None         | object      | False    | The classical optimizer used to update the parameters in each iteration. Per default, SPSA with automatic calibration of the learning rate is used. The type must be a qiskit.algorithms.optimizers.Optimizer. |\n",
      "| initial_po | None         | ['array', 's| False    | Initial parameters of the ansatz. Can be an array or the string ``'random'`` to choose random initial parameters. The type must be numpy.ndarray or str. |\n",
      "| optimizati | None         | integer     | False    | The optimization level to run if the swap strategies are not used. This value is 1 by default. This is an integer. |\n",
      "| alpha      | None         | number      | False    | The fraction of top measurement samples to be used for the expectation value (CVaR expectation). Defaults to 1, i.e. using all samples to construct the expectation value. |\n",
      "| shots      | None         | integer     | False    | The integer number of shots used for each circuit evaluation. Defaults to 1024. |\n",
      "| aux_operat | None         | array       | False    | A list of operators to be evaluated at the final, optimized state. This must be a List[PauliSumOp]. |\n",
      "| use_initia | None         | boolean     | False    | A boolean flag that, if set to True (the default is False), runs a heuristic algorithm to permute the Paulis in the cost operator to better fit the coupling map and the swap strategy. This is only needed when the optimization problem is sparse and when using swap strategies to transpile. |\n",
      "| use_pulse_ | None         | boolean     | False    | A boolean on whether or not to use a pulse-efficient transpilation. This flag is set to False by default. |\n",
      "| use_swap_s | None         | boolean     | False    | A boolean on whether or not to use swap strategies when transpiling. This flag is set to True by default. If this is False then the standard transpiler with the given optimization level will run. |\n",
      "| measuremen | None         | boolean     | False    | Whether to apply measurement error mitigation in form of a tensored measurement fitter to the measurements. Defaults to False. |\n"
     ]
    }
   ],
   "source": [
    "print(f\"Program name: {qaoa_program.name}, Program id: {qaoa_program.program_id}\")\n",
    "print(qaoa_program.parameters())"
   ]
  },
  {
   "cell_type": "code",
   "execution_count": 4,
   "id": "0f806a85-29c0-43a5-814c-87eaad224a4a",
   "metadata": {},
   "outputs": [
    {
     "name": "stderr",
     "output_type": "stream",
     "text": [
      "<frozen importlib._bootstrap>:219: RuntimeWarning: scipy._lib.messagestream.MessageStream size changed, may indicate binary incompatibility. Expected 56 from C header, got 64 from PyObject\n"
     ]
    }
   ],
   "source": [
    "import numpy as np\n",
    "\n",
    "from qiskit.tools import job_monitor\n",
    "from qiskit.opflow import PauliSumOp, Z, I\n",
    "from qiskit.algorithms.optimizers import SPSA\n",
    "\n",
    "# Define the cost operator to run.\n",
    "op = (\n",
    "    (Z ^ Z ^ I ^ I ^ I)\n",
    "    - (I ^ I ^ Z ^ Z ^ I)\n",
    "    + (I ^ I ^ Z ^ I ^ Z)\n",
    "    - (Z ^ I ^ Z ^ I ^ I)\n",
    "    - (I ^ Z ^ Z ^ I ^ I)\n",
    "    + (I ^ Z ^ I ^ Z ^ I)\n",
    "    + (I ^ I ^ I ^ Z ^ Z)\n",
    ")\n",
    "\n",
    "# SPSA helps deal with noisy environments.\n",
    "optimizer = SPSA(maxiter=100)\n",
    "\n",
    "# We will run a depth two QAOA.\n",
    "reps = 2\n",
    "\n",
    "# The initial point for the optimization, chosen at random.\n",
    "initial_point = np.random.random(2 * reps)\n",
    "\n",
    "# The backend that will run the programm.\n",
    "options = {\"backend_name\": \"ibmq_qasm_simulator\"}\n",
    "\n",
    "# The inputs of the program as described above.\n",
    "runtime_inputs = {\n",
    "    \"operator\": op,\n",
    "    \"reps\": reps,\n",
    "    \"optimizer\": optimizer,\n",
    "    \"initial_point\": initial_point,\n",
    "    \"shots\": 2**13,\n",
    "    # Set to True when running on real backends to reduce circuit\n",
    "    # depth by leveraging swap strategies. If False the\n",
    "    # given optimization_level (default is 1) will be used.\n",
    "    \"use_swap_strategies\": False,\n",
    "    # Set to True when optimizing sparse problems.\n",
    "    \"use_initial_mapping\": False,\n",
    "    # Set to true when using echoed-cross-resonance hardware.\n",
    "    \"use_pulse_efficient\": False,\n",
    "}"
   ]
  },
  {
   "cell_type": "code",
   "execution_count": 5,
   "id": "00fc5b85-d755-46ba-9905-98c5e385d5fd",
   "metadata": {},
   "outputs": [],
   "source": [
    "job = provider.runtime.run(\n",
    "    program_id=program_id,\n",
    "    options=options,\n",
    "    inputs=runtime_inputs,\n",
    ")"
   ]
  },
  {
   "cell_type": "code",
   "execution_count": 6,
   "id": "c3051640-b073-4b6f-8b42-5679215addf0",
   "metadata": {},
   "outputs": [
    {
     "name": "stdout",
     "output_type": "stream",
     "text": [
      "Job id: cc2ads31uoq3f11lai2g\n",
      "Job status: JobStatus.RUNNING\n"
     ]
    }
   ],
   "source": [
    "print(f\"Job id: {job.job_id()}\")\n",
    "print(f\"Job status: {job.status()}\")"
   ]
  },
  {
   "cell_type": "code",
   "execution_count": 7,
   "id": "3c40ecf7-a130-40f7-93b7-ae0efbb91ca8",
   "metadata": {},
   "outputs": [],
   "source": [
    "result = job.result()"
   ]
  },
  {
   "cell_type": "code",
   "execution_count": 8,
   "id": "935d1161-987e-4dfb-9f80-f32a2ffdfa0a",
   "metadata": {},
   "outputs": [],
   "source": [
    "from collections import defaultdict\n",
    "\n",
    "\n",
    "def op_adj_mat(op: PauliSumOp) -> np.array:\n",
    "    \"\"\"Extract the adjacency matrix from the op.\"\"\"\n",
    "    adj_mat = np.zeros((op.num_qubits, op.num_qubits))\n",
    "    for pauli, coeff in op.primitive.to_list():\n",
    "        idx = tuple([i for i, c in enumerate(pauli[::-1]) if c == \"Z\"])  # index of Z\n",
    "        adj_mat[idx[0], idx[1]], adj_mat[idx[1], idx[0]] = np.real(coeff), np.real(coeff)\n",
    "\n",
    "    return adj_mat\n",
    "\n",
    "\n",
    "def get_cost(bit_str: str, adj_mat: np.array) -> float:\n",
    "    \"\"\"Return the cut value of the bit string.\"\"\"\n",
    "    n, x = len(bit_str), [int(bit) for bit in bit_str[::-1]]\n",
    "    cost = 0\n",
    "    for i in range(n):\n",
    "        for j in range(n):\n",
    "            cost += adj_mat[i, j] * x[i] * (1 - x[j])\n",
    "\n",
    "    return cost\n",
    "\n",
    "\n",
    "def get_cut_distribution(result) -> dict:\n",
    "    \"\"\"Extract the cut distribution from the result.\n",
    "\n",
    "    Returns:\n",
    "        A dict of cut value: probability.\n",
    "    \"\"\"\n",
    "\n",
    "    adj_mat = op_adj_mat(PauliSumOp.from_list(result[\"inputs\"][\"operator\"]))\n",
    "\n",
    "    state_results = []\n",
    "    for bit_str, amp in result[\"eigenstate\"].items():\n",
    "        state_results.append((bit_str, get_cost(bit_str, adj_mat), amp**2 * 100))\n",
    "\n",
    "    vals = defaultdict(int)\n",
    "\n",
    "    for res in state_results:\n",
    "        vals[res[1]] += res[2]\n",
    "\n",
    "    return dict(vals)"
   ]
  },
  {
   "cell_type": "code",
   "execution_count": 9,
   "id": "f4afd9ed-cbc0-4e6b-a60d-c99a2c0a99ba",
   "metadata": {},
   "outputs": [
    {
     "data": {
      "text/plain": [
       "Text(0, 0.5, 'Probability')"
      ]
     },
     "execution_count": 9,
     "metadata": {},
     "output_type": "execute_result"
    },
    {
     "data": {
      "image/png": "[encoded data removed]",
      "text/plain": [
       "<Figure size 1008x360 with 2 Axes>"
      ]
     },
     "metadata": {
      "needs_background": "light"
     },
     "output_type": "display_data"
    }
   ],
   "source": [
    "import matplotlib.pyplot as plt\n",
    "\n",
    "cut_vals = get_cut_distribution(result)\n",
    "\n",
    "fig, axs = plt.subplots(1, 2, figsize=(14, 5))\n",
    "axs[0].plot(result[\"optimizer_history\"][\"energy\"])\n",
    "axs[1].bar(list(cut_vals.keys()), list(cut_vals.values()))\n",
    "axs[0].set_xlabel(\"Energy evaluation number\")\n",
    "axs[0].set_ylabel(\"Energy\")\n",
    "axs[1].set_xlabel(\"Cut value\")\n",
    "axs[1].set_ylabel(\"Probability\")"
   ]
  },
  {
   "cell_type": "markdown",
   "id": "b962aecb-42df-4731-b56a-016db1950576",
   "metadata": {},
   "source": [
    "Optimization"
   ]
  },
  {
   "cell_type": "code",
   "execution_count": 10,
   "id": "c6356e28-9168-455d-a735-7a6d187afa2e",
   "metadata": {},
   "outputs": [],
   "source": [
    "from qiskit_optimization.runtime import QAOAClient\n",
    "from qiskit_optimization.algorithms import MinimumEigenOptimizer\n",
    "from qiskit_optimization import QuadraticProgram"
   ]
  },
  {
   "cell_type": "code",
   "execution_count": 11,
   "id": "d45fa870-2d15-4fe6-94b2-f074030e22d8",
   "metadata": {},
   "outputs": [
    {
     "name": "stdout",
     "output_type": "stream",
     "text": [
      "Problem name: \n",
      "\n",
      "Minimize\n",
      "  x*y - x*z + 2*y*z + x - 2*y + 3*z\n",
      "\n",
      "Subject to\n",
      "  No constraints\n",
      "\n",
      "  Binary variables (3)\n",
      "    x y z\n",
      "\n"
     ]
    }
   ],
   "source": [
    "qubo = QuadraticProgram()\n",
    "qubo.binary_var(\"x\")\n",
    "qubo.binary_var(\"y\")\n",
    "qubo.binary_var(\"z\")\n",
    "qubo.minimize(linear=[1, -2, 3], quadratic={(\"x\", \"y\"): 1, (\"x\", \"z\"): -1, (\"y\", \"z\"): 2})\n",
    "print(qubo.prettyprint())"
   ]
  },
  {
   "cell_type": "code",
   "execution_count": 12,
   "id": "7bfeadf8-3a6f-438e-a7b0-febb4502e9db",
   "metadata": {},
   "outputs": [],
   "source": [
    "qaoa_mes = QAOAClient(\n",
    "    provider=provider, backend=provider.get_backend(\"ibmq_qasm_simulator\"), reps=2, alpha=0.75\n",
    ")\n",
    "\n",
    "qaoa = MinimumEigenOptimizer(qaoa_mes)"
   ]
  },
  {
   "cell_type": "code",
   "execution_count": 13,
   "id": "94b9c85e-021b-43e3-bdd1-cb92d915f9be",
   "metadata": {},
   "outputs": [
    {
     "name": "stdout",
     "output_type": "stream",
     "text": [
      "objective function value: -2.0\n",
      "variable values: x=0.0, y=1.0, z=0.0\n",
      "status: SUCCESS\n"
     ]
    }
   ],
   "source": [
    "result = qaoa.solve(qubo)\n",
    "print(result.prettyprint())"
   ]
  },
  {
   "cell_type": "markdown",
   "id": "841d9872-5507-41d0-b2ce-c0ca82f44ab1",
   "metadata": {},
   "source": [
    "Appendix"
   ]
  },
  {
   "cell_type": "code",
   "execution_count": 14,
   "id": "5fce0a6b-b098-44da-ae9a-200b8754374b",
   "metadata": {},
   "outputs": [
    {
     "name": "stderr",
     "output_type": "stream",
     "text": [
      "/tmp/ipykernel_60/1168752190.py:17: DeprecationWarning: The module 'qiskit.test.mock' is deprecated since Qiskit Terra 0.21.0, and will be removed 3 months or more later. Instead, you should import the desired object directly 'qiskit.providers.fake_provider'.\n",
      "  from qiskit.test.mock import FakeBelem\n"
     ]
    }
   ],
   "source": [
    "from qiskit.transpiler import PassManager\n",
    "from qiskit.circuit.library.standard_gates.equivalence_library import (\n",
    "    StandardEquivalenceLibrary as std_eqlib,\n",
    ")\n",
    "from qiskit.transpiler.passes import (\n",
    "    Collect2qBlocks,\n",
    "    ConsolidateBlocks,\n",
    "    UnrollCustomDefinitions,\n",
    "    BasisTranslator,\n",
    "    Optimize1qGatesDecomposition,\n",
    ")\n",
    "from qiskit.transpiler.passes.calibration.builders import RZXCalibrationBuilderNoEcho\n",
    "from qiskit.transpiler.passes.optimization.echo_rzx_weyl_decomposition import (\n",
    "    EchoRZXWeylDecomposition,\n",
    ")\n",
    "\n",
    "from qiskit.test.mock import FakeBelem"
   ]
  },
  {
   "cell_type": "code",
   "execution_count": 15,
   "id": "5862ec23-1d00-4b11-85f8-c58eec100776",
   "metadata": {},
   "outputs": [],
   "source": [
    "backend = FakeBelem()"
   ]
  },
  {
   "cell_type": "code",
   "execution_count": 16,
   "id": "385baa51-27fe-42d4-9823-6cd394620d8d",
   "metadata": {},
   "outputs": [],
   "source": [
    "inst_map = backend.defaults().instruction_schedule_map\n",
    "channel_map = backend.configuration().qubit_channel_mapping\n",
    "rzx_basis = [\"rzx\", \"rz\", \"x\", \"sx\"]\n",
    "\n",
    "pulse_efficient = PassManager(\n",
    "    [\n",
    "        # Consolidate consecutive two-qubit operations.\n",
    "        Collect2qBlocks(),\n",
    "        ConsolidateBlocks(basis_gates=[\"rz\", \"sx\", \"x\", \"rxx\"]),\n",
    "        # Rewrite circuit in terms of Weyl-decomposed echoed RZX gates.\n",
    "        EchoRZXWeylDecomposition(backend.defaults().instruction_schedule_map),\n",
    "        # Attach scaled CR pulse schedules to the RZX gates.\n",
    "        RZXCalibrationBuilderNoEcho(\n",
    "            instruction_schedule_map=inst_map, qubit_channel_mapping=channel_map\n",
    "        ),\n",
    "        # Simplify single-qubit gates.\n",
    "        UnrollCustomDefinitions(std_eqlib, rzx_basis),\n",
    "        BasisTranslator(std_eqlib, rzx_basis),\n",
    "        Optimize1qGatesDecomposition(rzx_basis),\n",
    "    ]\n",
    ")"
   ]
  },
  {
   "cell_type": "code",
   "execution_count": 17,
   "id": "8c42c512-27c1-4d9b-a92a-b23b8ddc96db",
   "metadata": {},
   "outputs": [
    {
     "data": {
      "image/png": "[encoded data removed]",
      "text/plain": [
       "<Figure size 568.197x204.68 with 1 Axes>"
      ]
     },
     "execution_count": 17,
     "metadata": {},
     "output_type": "execute_result"
    }
   ],
   "source": [
    "from qiskit import QuantumCircuit\n",
    "\n",
    "circ = QuantumCircuit(3)\n",
    "circ.h([0, 1, 2])\n",
    "circ.rzx(0.5, 0, 1)\n",
    "circ.swap(0, 1)\n",
    "circ.cx(2, 1)\n",
    "circ.rz(0.4, 1)\n",
    "circ.cx(2, 1)\n",
    "circ.rx(1.23, 2)\n",
    "circ.cx(2, 1)\n",
    "circ.draw(\"mpl\")"
   ]
  },
  {
   "cell_type": "code",
   "execution_count": 18,
   "id": "40e7ceb9-8bad-4bb0-bac7-126150a18931",
   "metadata": {},
   "outputs": [
    {
     "data": {
      "image/png": "[encoded data removed]",
      "text/plain": [
       "<Figure size 2675.2x204.68 with 1 Axes>"
      ]
     },
     "execution_count": 18,
     "metadata": {},
     "output_type": "execute_result"
    }
   ],
   "source": [
    "pulse_efficient.run(circ).draw(\"mpl\", fold=False)"
   ]
  },
  {
   "cell_type": "code",
   "execution_count": 19,
   "id": "d7a7aabe-ecb5-47e0-8d49-f18f498081cd",
   "metadata": {},
   "outputs": [
    {
     "data": {
      "text/html": [
       "<h3>Version Information</h3><table><tr><th>Qiskit Software</th><th>Version</th></tr><tr><td><code>qiskit-terra</code></td><td>0.21.1</td></tr><tr><td><code>qiskit-aer</code></td><td>0.10.4</td></tr><tr><td><code>qiskit-ibmq-provider</code></td><td>0.19.2</td></tr><tr><td><code>qiskit</code></td><td>0.37.1</td></tr><tr><td><code>qiskit-nature</code></td><td>0.4.2</td></tr><tr><td><code>qiskit-finance</code></td><td>0.3.3</td></tr><tr><td><code>qiskit-optimization</code></td><td>0.4.0</td></tr><tr><td><code>qiskit-machine-learning</code></td><td>0.4.0</td></tr><tr><th>System information</th></tr><tr><td>Python version</td><td>3.8.13</td></tr><tr><td>Python compiler</td><td>GCC 10.3.0</td></tr><tr><td>Python build</td><td>default, Mar 25 2022 06:04:10</td></tr><tr><td>OS</td><td>Linux</td></tr><tr><td>CPUs</td><td>8</td></tr><tr><td>Memory (Gb)</td><td>31.21131134033203</td></tr><tr><td colspan='2'>Tue Aug 23 10:13:01 2022 UTC</td></tr></table>"
      ],
      "text/plain": [
       "<IPython.core.display.HTML object>"
      ]
     },
     "metadata": {},
     "output_type": "display_data"
    },
    {
     "data": {
      "text/html": [
       "<div style='width: 100%; background-color:#d5d9e0;padding-left: 10px; padding-bottom: 10px; padding-right: 10px; padding-top: 5px'><h3>This code is a part of Qiskit</h3><p>&copy; Copyright IBM 2017, 2022.</p><p>This code is licensed under the Apache License, Version 2.0. You may<br>obtain a copy of this license in the LICENSE.txt file in the root directory<br> of this source tree or at http://www.apache.org/licenses/LICENSE-2.0.<p>Any modifications or derivative works of this code must retain this<br>copyright notice, and modified files need to carry a notice indicating<br>that they have been altered from the originals.</p></div>"
      ],
      "text/plain": [
       "<IPython.core.display.HTML object>"
      ]
     },
     "metadata": {},
     "output_type": "display_data"
    }
   ],
   "source": [
    "import qiskit.tools.jupyter\n",
    "\n",
    "%qiskit_version_table\n",
    "%qiskit_copyright"
   ]
  },
  {
   "cell_type": "code",
   "execution_count": null,
   "id": "84e5d66b-d02e-4392-b4d5-7ace1d4b861f",
   "metadata": {},
   "outputs": [],
   "source": []
  }
 ],
 "metadata": {
  "kernelspec": {
   "display_name": "Python 3 (ipykernel)",
   "language": "python",
   "name": "python3"
  },
  "language_info": {
   "codemirror_mode": {
    "name": "ipython",
    "version": 3
   },
   "file_extension": ".py",
   "mimetype": "text/x-python",
   "name": "python",
   "nbconvert_exporter": "python",
   "pygments_lexer": "ipython3",
   "version": "3.8.13"
  },
  "widgets": {
   "application/vnd.jupyter.widget-state+json": {
    "state": {},
    "version_major": 2,
    "version_minor": 0
   }
  }
 },
 "nbformat": 4,
 "nbformat_minor": 5
}
